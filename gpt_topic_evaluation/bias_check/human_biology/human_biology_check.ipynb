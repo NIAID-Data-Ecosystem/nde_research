{
 "cells": [
  {
   "cell_type": "markdown",
   "id": "864372ef",
   "metadata": {},
   "source": [
    "## Human Biology is frequently being incorrectly categorized by ChatGPT\n",
    "\n",
    "To address this issue, we will do some clustering/grouping to see if we can develop heuristics to minimize this error\n",
    "\n",
    "1. Identify all records with topicCategory = human biology\n",
    "2. Pull all topicCategories for those records\n",
    "3. Create frequency tables to see how Human biology clusters with other topics"
   ]
  },
  {
   "cell_type": "code",
   "execution_count": 13,
   "id": "43a2b1c2",
   "metadata": {},
   "outputs": [],
   "source": [
    "import os\n",
    "import requests\n",
    "import json\n",
    "import pandas as pd\n",
    "import time\n",
    "import math"
   ]
  },
  {
   "cell_type": "code",
   "execution_count": null,
   "id": "5b81201c",
   "metadata": {},
   "outputs": [],
   "source": [
    "import matplotlib\n",
    "import seaborn as sns"
   ]
  },
  {
   "cell_type": "code",
   "execution_count": 2,
   "id": "25a77225",
   "metadata": {},
   "outputs": [],
   "source": [
    "script_path = os.getcwd()\n",
    "data_path = os.path.join(script_path,'data')"
   ]
  },
  {
   "cell_type": "code",
   "execution_count": 4,
   "id": "c12918f6",
   "metadata": {},
   "outputs": [
    {
     "name": "stdout",
     "output_type": "stream",
     "text": [
      "5611\n"
     ]
    }
   ],
   "source": [
    "query_url = \"https://api-staging.data.niaid.nih.gov/v1/query?&q=topicCategory.name%3A%22Human+biology%22&fields=_id,topicCategory&fetch_all=True\"\n",
    "r = requests.get(query_url)\n",
    "cleanr = json.loads(r.text)\n",
    "hits = cleanr['hits']\n",
    "#print(len(cleanr['hits']))\n",
    "df1 = pd.DataFrame(cleanr['hits'])\n",
    "scroll_id = cleanr['_scroll_id']\n",
    "total_hits = cleanr['total']\n",
    "print(total_hits)"
   ]
  },
  {
   "cell_type": "code",
   "execution_count": 7,
   "id": "1c17f329",
   "metadata": {},
   "outputs": [
    {
     "name": "stdout",
     "output_type": "stream",
     "text": [
      "CPU times: total: 594 ms\n",
      "Wall time: 25.6 s\n"
     ]
    }
   ],
   "source": [
    "%%time\n",
    "## Scroll to get all the results\n",
    "\n",
    "i = 0\n",
    "#k = 3 \n",
    "k = math.ceil(total_hits/1000)\n",
    "while i < k:\n",
    "    #r2 = requests.get(f'https://api.data.niaid.nih.gov/v1/query?scroll_id={scroll_id}')\n",
    "    r2 = requests.get(f'https://api-staging.data.niaid.nih.gov/v1/query?scroll_id={scroll_id}')\n",
    "    tmp = json.loads(r2.text)\n",
    "    scroll_id = tmp['_scroll_id']\n",
    "    tmpdf = pd.DataFrame(tmp['hits'])\n",
    "    df1 = pd.concat((df1,tmpdf),ignore_index=True)\n",
    "    #print(len(df1))\n",
    "    i = i+1\n",
    "    time.sleep(0.25)"
   ]
  },
  {
   "cell_type": "code",
   "execution_count": 9,
   "id": "1deac3f1",
   "metadata": {},
   "outputs": [
    {
     "name": "stdout",
     "output_type": "stream",
     "text": [
      "                  _id    _score  \\\n",
      "0  ncbi_sra_srp377201  9.154606   \n",
      "1  ncbi_sra_srp095966  9.154606   \n",
      "\n",
      "                                       topicCategory       _ignored  \n",
      "0  [{'curatedBy': {'name': 'gpt-3.5-turbo', 'url'...            NaN  \n",
      "1  [{'curatedBy': {'name': 'gpt-3.5-turbo', 'url'...  [all.keyword]  \n",
      "{'curatedBy': {'name': 'gpt-3.5-turbo', 'url': 'https://openai.com/index/chatgpt'}, 'fromGPT': True, 'identifier': 'topic_3301', 'inDefinedTermSet': 'EDAM', 'name': 'Microbiology', 'url': 'http://edamontology.org/topic_3301'}\n"
     ]
    }
   ],
   "source": [
    "print(df1.head(n=2))\n",
    "\n",
    "print(df1.iloc[0]['topicCategory'][0])"
   ]
  },
  {
   "cell_type": "code",
   "execution_count": 76,
   "id": "f6980a71",
   "metadata": {},
   "outputs": [],
   "source": [
    "def pull_topic_names(topic_array):\n",
    "    topiclist = []\n",
    "    for eachtopic in topic_array:\n",
    "        if eachtopic['name']!= \"Human biology\":\n",
    "            topiclist.append(eachtopic['name'])\n",
    "    topiclist.sort()\n",
    "    return topiclist\n",
    "\n",
    "df2 = df1[['_id','topicCategory']].copy()        "
   ]
  },
  {
   "cell_type": "code",
   "execution_count": 77,
   "id": "c802d47d",
   "metadata": {},
   "outputs": [
    {
     "name": "stdout",
     "output_type": "stream",
     "text": [
      "6611\n",
      "                  _id                             topics               term  \\\n",
      "0  ncbi_sra_srp377201  [Microbiology, Molecular biology]       Microbiology   \n",
      "0  ncbi_sra_srp377201  [Microbiology, Molecular biology]  Molecular biology   \n",
      "\n",
      "                         topic_hash  \n",
      "0  Microbiology | Molecular biology  \n",
      "0  Microbiology | Molecular biology  \n"
     ]
    }
   ],
   "source": [
    "df2['topics'] = df1.apply(lambda row: pull_topic_names(row['topicCategory']),axis=1)\n",
    "df2['term'] = df2['topics']\n",
    "df2['topic_hash'] = [' | '.join(x) for x in df2['topics']]\n",
    "df2.drop(columns='topicCategory',inplace=True)\n",
    "df3 = df2.explode('term')\n",
    "df3_clean = df3.drop_duplicates(['_id','term'],keep='first')\n",
    "print(len(df3))\n",
    "print(df3.head(n=2))"
   ]
  },
  {
   "cell_type": "code",
   "execution_count": 78,
   "id": "c6838835",
   "metadata": {},
   "outputs": [
    {
     "name": "stdout",
     "output_type": "stream",
     "text": [
      "                      topic_hash  records\n",
      "818  Metagenomics | Microbiology      180\n",
      "317      Cell biology | Genetics      112\n",
      "671      Genomics | Microbiology       98\n",
      "625          Genetics | Genomics       96\n",
      "636      Genetics | Microbiology       94\n",
      "..                           ...      ...\n",
      "619            Genetic variation        1\n",
      "972        Regenerative medicine        1\n",
      "256                Biotechnology        1\n",
      "839            Molecular biology        1\n",
      "927                 Pharmacology        1\n",
      "\n",
      "[999 rows x 2 columns]\n"
     ]
    }
   ],
   "source": [
    "df4 = df3_clean.groupby('topic_hash').size().reset_index(name=\"records\")\n",
    "df4.sort_values('records',ascending=False,inplace=True)\n",
    "print(df4)\n",
    "df4.to_csv(os.path.join(data_path,'topic_hash.tsv'),sep='\\t',header=True)"
   ]
  },
  {
   "cell_type": "code",
   "execution_count": 68,
   "id": "ef357ec5",
   "metadata": {},
   "outputs": [
    {
     "name": "stdout",
     "output_type": "stream",
     "text": [
      "                  _id                                             topics  \\\n",
      "103   dryad_1rn8pk0pd  [Biodiversity, Ecology, Environmental sciences...   \n",
      "271       prjna374136                            [Biodiversity, Zoology]   \n",
      "615   egas00001005511  [Biodiversity, Biomarkers, Comparative genomic...   \n",
      "738   dryad_zpc866t8b             [Biodiversity, Environmental sciences]   \n",
      "855         prjeb2785                         [Biodiversity, Immunology]   \n",
      "2316      prjna662142                      [Biodiversity, Plant biology]   \n",
      "2527      dryad_63h33             [Biodiversity, Environmental sciences]   \n",
      "2855  dryad_47d7wm3bt                            [Biodiversity, Ecology]   \n",
      "2961    dryad_2864hc8                            [Biodiversity, Ecology]   \n",
      "\n",
      "                                                   term  \\\n",
      "103   [Biodiversity, Ecology, Environmental sciences...   \n",
      "271                             [Biodiversity, Zoology]   \n",
      "615   [Biodiversity, Biomarkers, Comparative genomic...   \n",
      "738              [Biodiversity, Environmental sciences]   \n",
      "855                          [Biodiversity, Immunology]   \n",
      "2316                      [Biodiversity, Plant biology]   \n",
      "2527             [Biodiversity, Environmental sciences]   \n",
      "2855                            [Biodiversity, Ecology]   \n",
      "2961                            [Biodiversity, Ecology]   \n",
      "\n",
      "                                             topic_hash  \n",
      "103   Biodiversity | Ecology | Environmental science...  \n",
      "271                              Biodiversity | Zoology  \n",
      "615   Biodiversity | Biomarkers | Comparative genomi...  \n",
      "738               Biodiversity | Environmental sciences  \n",
      "855                           Biodiversity | Immunology  \n",
      "2316                       Biodiversity | Plant biology  \n",
      "2527              Biodiversity | Environmental sciences  \n",
      "2855                             Biodiversity | Ecology  \n",
      "2961                             Biodiversity | Ecology  \n"
     ]
    }
   ],
   "source": [
    "biodiversity = df2.loc[df2['topics'].astype(str).str.contains('Biodiversity')]\n",
    "print(biodiversity.tail(n=20))"
   ]
  },
  {
   "cell_type": "code",
   "execution_count": 61,
   "id": "35c4139f",
   "metadata": {},
   "outputs": [
    {
     "name": "stdout",
     "output_type": "stream",
     "text": [
      "                                         _id topics term topic_hash\n",
      "63                       mendeley_nzshbjg8h2     []  NaN           \n",
      "72                       mendeley_yvsz3xc7hs     []  NaN           \n",
      "75                       mendeley_zr6xj4jmxw     []  NaN           \n",
      "100                      mendeley_rgbh3ttfzn     []  NaN           \n",
      "149  hubmap_f873b94dc8554ce2d013ecd570f1d8b9     []  NaN           \n",
      "229  hubmap_dc289471333309925e46ceb9bafafaf4     []  NaN           \n",
      "233             dataverse_10.7910_dvn_io89oi     []  NaN           \n",
      "235             dataverse_10.7910_dvn_meudnp     []  NaN           \n",
      "427                            s-epmc3819378     []  NaN           \n",
      "553                      mendeley_vgyjc23rnw     []  NaN           \n",
      "610                      mendeley_csgs546vxy     []  NaN           \n",
      "612                      mendeley_v7j8ynryj6     []  NaN           \n",
      "690                            s-epmc2851913     []  NaN           \n",
      "724             dataverse_10.7910_dvn_pj7uaj     []  NaN           \n",
      "733             dataverse_10.7910_dvn_e6hduz     []  NaN           \n",
      "734             dataverse_10.7910_dvn_e8ig6q     []  NaN           \n",
      "742  hubmap_7f0e5c10babfa368c9fbaff2e52f79f4     []  NaN           \n",
      "757             dataverse_10.7910_dvn_dsbhlx     []  NaN           \n",
      "758             dataverse_10.7910_dvn_oonj5b     []  NaN           \n",
      "760             dataverse_10.7910_dvn_dzuvzg     []  NaN           \n"
     ]
    }
   ],
   "source": [
    "nah = df3.loc[df3['term'].isna()]\n",
    "print(nah.head(n=20))"
   ]
  },
  {
   "cell_type": "code",
   "execution_count": null,
   "id": "fe21248e",
   "metadata": {},
   "outputs": [],
   "source": []
  }
 ],
 "metadata": {
  "kernelspec": {
   "display_name": "Python 3 (ipykernel)",
   "language": "python",
   "name": "python3"
  },
  "language_info": {
   "codemirror_mode": {
    "name": "ipython",
    "version": 3
   },
   "file_extension": ".py",
   "mimetype": "text/x-python",
   "name": "python",
   "nbconvert_exporter": "python",
   "pygments_lexer": "ipython3",
   "version": "3.10.10"
  }
 },
 "nbformat": 4,
 "nbformat_minor": 5
}
