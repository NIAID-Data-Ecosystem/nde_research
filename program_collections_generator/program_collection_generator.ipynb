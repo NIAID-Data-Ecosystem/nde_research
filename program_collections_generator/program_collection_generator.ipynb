{
 "cells": [
  {
   "cell_type": "markdown",
   "id": "463280d4",
   "metadata": {},
   "source": [
    "# Program Collections generator\n",
    "\n",
    "This script parses a xlsx file containing metadata about Program Collections and searches the NIAID Data Ecosystem Discovery Portal for records that should be included as part of each program. It then generates the corrections files needed to add the program collection to the Discovery Portal"
   ]
  },
  {
   "cell_type": "code",
   "execution_count": 1,
   "id": "c6c8f080",
   "metadata": {},
   "outputs": [],
   "source": [
    "import os\n",
    "import requests\n",
    "import json\n",
    "import pandas as pd"
   ]
  },
  {
   "cell_type": "code",
   "execution_count": 2,
   "id": "c173fa3e",
   "metadata": {},
   "outputs": [
    {
     "name": "stdout",
     "output_type": "stream",
     "text": [
      "C:\\Users\\gtsueng\\Anaconda3\\envs\\nde\\nde-metadata-corrections\n"
     ]
    }
   ],
   "source": [
    "script_path = os.getcwd()\n",
    "data_path = os.path.join(script_path,'data')\n",
    "file_path = os.path.join(data_path,'Program Collections.xlsx')\n",
    "p1_path = os.path.abspath(os.path.join(script_path, os.pardir))\n",
    "parent_path = os.path.abspath(os.path.join(p1_path, os.pardir))\n",
    "correction_path = os.path.join(parent_path,'nde-metadata-corrections')\n",
    "print(correction_path)"
   ]
  },
  {
   "cell_type": "code",
   "execution_count": 3,
   "id": "48d57b3d",
   "metadata": {},
   "outputs": [
    {
     "name": "stdout",
     "output_type": "stream",
     "text": [
      "['AADCRC', 'ACE', 'ACTG', 'ADRN', 'AMP', 'ARLG', 'AViDD', 'CARBIRU', 'CCHI', 'CEIRR', 'CETR', 'CFAR', 'CHAVD', 'CHI', 'CIVIC', 'CREID', 'CRSTAL-ID', 'CSGADP', 'CTOT', 'CoFAR', 'GCID', 'HIPC', 'HPTN', 'HVTN', 'ICEMR', 'IMPAACT', 'IMPAc-TB', 'ITN', 'leDEA', 'MHRP', 'MIB', 'MTN', 'NBBTP-IRTA', 'PEPFAR', 'SAVE', 'TBRU-N', 'TRAC', 'USIDNET']\n"
     ]
    }
   ],
   "source": [
    "#approvedProd = ['GCID','HIPC','CREID']\n",
    "approvedProd = []\n",
    "with open(os.path.join(data_path,'approved_for_prod.txt'),'r') as prodinfile:\n",
    "    for line in prodinfile:\n",
    "        approvedProd.append(line.strip())\n",
    "print(approvedProd)"
   ]
  },
  {
   "cell_type": "code",
   "execution_count": 4,
   "id": "fa210460",
   "metadata": {},
   "outputs": [],
   "source": [
    "def parse_array_text(arraytext):\n",
    "    if '*' in arraytext:\n",
    "        arraytext = arraytext.replace('*','')\n",
    "    if ',' in arraytext:\n",
    "        arrayinfo = arraytext.split(',')\n",
    "        cleanarray = [x.strip() for x in arrayinfo]\n",
    "    elif '|' in arraytext:\n",
    "        arrayinfo = arraytext.split('|')\n",
    "        cleanarray = [x.strip() for x in arrayinfo]\n",
    "    else:\n",
    "        cleanarray = [arraytext]\n",
    "    return cleanarray\n",
    "\n",
    "def generate_meta_file(correction_path, approvedProd, row):\n",
    "    clean_descript = f\"{row['description']} For more information, visit the NIAID program page: {row['niaidURL']}\"\n",
    "    altname = parse_array_text(row['alternateName'])\n",
    "    parentorgs = parse_array_text(row['parentOrganization']) \n",
    "    meta_dict = {\"@type\": \"ResearchProject\", \"name\":row[\"name\"], \"abstract\":row[\"abstract\"],\n",
    "                 \"description\":clean_descript, \"alternateName\":altname,\n",
    "                 \"url\": row[\"url\"], \"parentOrganization\":parentorgs} \n",
    "    file_name = f'{row[\"fileName\"]}_correction.json'\n",
    "    output_dict = {\"sourceOrganization\":[meta_dict]}\n",
    "    if row[\"fileName\"] in approvedProd:\n",
    "        outputpath = os.path.join(correction_path,\"collections_corrections_production\")\n",
    "    else:\n",
    "        outputpath = os.path.join(correction_path,\"collections_corrections_staging\")\n",
    "    with open(os.path.join(outputpath,file_name),'w') as outwrite:\n",
    "        outwrite.write(json.dumps(output_dict,indent=4))"
   ]
  },
  {
   "cell_type": "code",
   "execution_count": 5,
   "id": "ead072f1",
   "metadata": {},
   "outputs": [],
   "source": [
    "def clean_program_list(base_meta):\n",
    "    tmpdf = base_meta.loc[base_meta['fundingIDList']!='not found']\n",
    "    cleandf = tmpdf.loc[tmpdf['fileName']!='--'].copy()\n",
    "    return cleandf    "
   ]
  },
  {
   "cell_type": "code",
   "execution_count": 6,
   "id": "21300cbb",
   "metadata": {},
   "outputs": [
    {
     "name": "stdout",
     "output_type": "stream",
     "text": [
      "    fileName                    name  \\\n",
      "84      INIP       NIAID INI Program   \n",
      "85  TCRR-SAD  NIAID TCRR-SAD Program   \n",
      "86    SysAII    NIAID SysAII Program   \n",
      "\n",
      "                                             abstract  \\\n",
      "84  The Immunity in Neonates and Infants (INI) Pro...   \n",
      "85  T Cell Reagent Research for the Study of Aller...   \n",
      "86  The Systems Approach to Immunity and Inflammat...   \n",
      "\n",
      "                                          description  \\\n",
      "84  The Immunity in Neonates and Infants (INI) Pro...   \n",
      "85  T Cell Reagent Research for the Study of Aller...   \n",
      "86  The Systems Approach to Immunity and Inflammat...   \n",
      "\n",
      "                                        alternateName parentOrganization  \\\n",
      "84           Immunity in Neonates and Infants Program              NIAID   \n",
      "85  T Cell Reagent Research for the Study of Aller...              NIAID   \n",
      "86  Systems Approach to Immunity and Inflammation ...              NIAID   \n",
      "\n",
      "                                                  url  \\\n",
      "84  https://www.niaid.nih.gov/research/immunity-ne...   \n",
      "85  https://www.niaid.nih.gov/research/t-cell-reag...   \n",
      "86  https://www.niaid.nih.gov/research/systems-app...   \n",
      "\n",
      "                                        fundingIDList  \\\n",
      "84  AI168640| AI168634| AI168390| AI168655| ES0349...   \n",
      "85                       AI140498| AI135731| AI135817   \n",
      "86                       AI100627| AI100625| AI133524   \n",
      "\n",
      "                                             niaidURL  \\\n",
      "84  https://www.niaid.nih.gov/research/immunity-ne...   \n",
      "85  https://www.niaid.nih.gov/research/t-cell-reag...   \n",
      "86  https://www.niaid.nih.gov/research/systems-app...   \n",
      "\n",
      "                       foaNumber Include in Portal?  \\\n",
      "84  RFA-AI-20-077, RFA-AI-16-001                Yes   \n",
      "85                 RFA-AI-16-027                Yes   \n",
      "86                 RFA-AI-16-050                Yes   \n",
      "\n",
      "                                 PriorProjectGrantIDs  \n",
      "84  AI100005|AI100119|AI131302|AI131337|AI131339|A...  \n",
      "85                                          not found  \n",
      "86                         AI100625|AI100627|AI133524  \n",
      "  fileName                   name  \\\n",
      "0   SysBio  NIAID Systems Biology   \n",
      "1    CREID    NIAID CREID Network   \n",
      "2  ReVAMPP  NIAID ReVAMPP Network   \n",
      "3    CEIRR    NIAID CEIRR Network   \n",
      "4     ACTG     NIAID ACTG Network   \n",
      "\n",
      "                                            abstract  \\\n",
      "0  The NIAID/Division of Microbiology and Infecti...   \n",
      "1  The Centers for Research in Emerging Infectiou...   \n",
      "2  Research and Development of Vaccines and Monoc...   \n",
      "3  The Centers of Excellence for Influenza Resear...   \n",
      "4  Advancing Clinical Therapeutics Globally (ACTG...   \n",
      "\n",
      "                                         description  \\\n",
      "0  The NIAID/Division of Microbiology and Infecti...   \n",
      "1  The Centers for Research in Emerging Infectiou...   \n",
      "2  Research and Development of Vaccines and Monoc...   \n",
      "3  NIAID established the Centers of Excellence fo...   \n",
      "4  Advancing Clinical Therapeutics Globally (ACTG...   \n",
      "\n",
      "                                       alternateName parentOrganization  \\\n",
      "0  NIAID SysBio, NIAID/DMID Systems Biology Conso...              NIAID   \n",
      "1  CREID, Centers for Research in Emerging Infect...              NIAID   \n",
      "2  ReVAMPP, Research and Development of Vaccines ...              NIAID   \n",
      "3  CEIRR, Centers of Excellence for Influenza Res...              NIAID   \n",
      "4  ACTG, Advancing Clinical Therapeutics Globally...              NIAID   \n",
      "\n",
      "                                                 url  \\\n",
      "0  https://www.niaid.nih.gov/research/systems-bio...   \n",
      "1                         https://creid-network.org/   \n",
      "2  https://www.niaid.nih.gov/research/vaccines-an...   \n",
      "3                     https://www.ceirr-network.org/   \n",
      "4                           https://actgnetwork.org/   \n",
      "\n",
      "                                       fundingIDList  \\\n",
      "0  HHSN272201200031C1*| U01AI111598**| U19AI10675...   \n",
      "1            MH129701| AI163118                        \n",
      "2                                    AI181960          \n",
      "3  75N93021C00007| 75N93021C00014| 75N93021C00015...   \n",
      "4                              AI068636| AI068634      \n",
      "\n",
      "                                            niaidURL foaNumber  \\\n",
      "0  https://www.niaid.nih.gov/research/systems-bio...       NaN   \n",
      "1  https://www.niaid.nih.gov/research/centers-res...       NaN   \n",
      "2  https://www.niaid.nih.gov/research/vaccines-an...       NaN   \n",
      "3  https://www.niaid.nih.gov/research/centers-exc...       NaN   \n",
      "4            https://www.niaid.nih.gov/research/ACTG       NaN   \n",
      "\n",
      "  Include in Portal? PriorProjectGrantIDs  \n",
      "0                Yes            not found  \n",
      "1                Yes            not found  \n",
      "2                Yes            not found  \n",
      "3                Yes            not found  \n",
      "4                Yes            not found  \n"
     ]
    }
   ],
   "source": [
    "base_meta = pd.read_excel(file_path, 'metadata', engine='openpyxl')\n",
    "clean_meta = clean_program_list(base_meta)\n",
    "print(clean_meta.tail(3))\n",
    "test_meta = base_meta.loc[~base_meta['fundingIDList'].isna() & ~base_meta['niaidURL'].isna()]\n",
    "print(test_meta.head(n=5))"
   ]
  },
  {
   "cell_type": "code",
   "execution_count": 7,
   "id": "ea52bde8",
   "metadata": {},
   "outputs": [],
   "source": [
    "test_row = test_meta.iloc[1]\n",
    "generate_meta_file(correction_path, approvedProd, test_row)"
   ]
  },
  {
   "cell_type": "code",
   "execution_count": 8,
   "id": "3d6c3cbb",
   "metadata": {},
   "outputs": [
    {
     "name": "stdout",
     "output_type": "stream",
     "text": [
      "  Acronym                                          Full Name  Code\n",
      "0      FIC               John E. Fogarty International Center   TW\n",
      "1    NCATS  National Center for Advancing Translational Sc...   TR\n"
     ]
    }
   ],
   "source": [
    "activity_codes_df = pd.read_csv(os.path.join(data_path,'NIH_IC_codes.tsv'),delimiter='\\t',header=0)\n",
    "print(activity_codes_df.head(n=2))"
   ]
  },
  {
   "cell_type": "code",
   "execution_count": 9,
   "id": "238d7723",
   "metadata": {},
   "outputs": [
    {
     "name": "stdout",
     "output_type": "stream",
     "text": [
      "MH129701\n"
     ]
    }
   ],
   "source": [
    "def load_codes(data_path):\n",
    "    activity_codes_df = pd.read_csv(os.path.join(data_path,'NIH_activity_codes.csv'),delimiter=',',header=0)\n",
    "    tmp_codes = activity_codes_df['Activity Code'].unique().tolist()\n",
    "    act_codes = [x.strip() for x in tmp_codes]\n",
    "    ic_codes_df = pd.read_csv(os.path.join(data_path,'NIH_IC_codes.tsv'),delimiter='\\t',header=0)\n",
    "    temp_codes = ic_codes_df['Code'].unique().tolist()\n",
    "    ic_codes = [x.strip() for x in temp_codes]\n",
    "    return act_codes, ic_codes\n",
    "\n",
    "def check_grantID_start(grantID, act_codes, ic_codes):\n",
    "    first_char = grantID[0]\n",
    "    first_two = grantID[0:2]\n",
    "    try:\n",
    "        int(first_two)\n",
    "        idstart = \"contract\"\n",
    "    except:\n",
    "        try:\n",
    "            int(first_char)\n",
    "            idstart = \"application_type\"\n",
    "        except:\n",
    "            two_char = grantID[0:2]\n",
    "            if '-' in grantID[0:3]:\n",
    "                three_char = grantID[0:4].replace('-','')\n",
    "            elif ' ' in grantID[0:3]:\n",
    "                three_char = grantID[0:4].replace(' ','')\n",
    "            else:\n",
    "                three_char = grantID[0:3]\n",
    "            if two_char in ic_codes:\n",
    "                idstart = \"ic_code\"\n",
    "            elif three_char in act_codes:\n",
    "                idstart = \"activity_code\"\n",
    "            else:\n",
    "                idstart = \"unknown\"\n",
    "    return idstart\n",
    "\n",
    "def check_grantID_end(grantID):\n",
    "    if '-' in grantID[-5:]:\n",
    "        idend = \"FY\"\n",
    "    else:\n",
    "        idend = \"project_code\"\n",
    "    return idend\n",
    "\n",
    "def parse_apptype_start(grantID): ## Eg. 1-R01 vs 1R01 vs 1 RO1\n",
    "    applTypeCode = str(grantID[0])\n",
    "    if '-' in grantID[0:2]:\n",
    "        remaining_grantID = grantID[2:]\n",
    "    elif ' ' in grantID[0:2]:\n",
    "        remaining_grantID = grantID[2:]\n",
    "    else:\n",
    "        remaining_grantID = grantID[1:]\n",
    "    return applTypeCode, remaining_grantID\n",
    "\n",
    "def parse_actcode_start(grantID):\n",
    "    if '-' in grantID[0:3]: ## Eg. U-01 vs U01 vs U-01- vs U01-\n",
    "        activityCode = grantID[0:4].replace('-','')\n",
    "        if '-' in grantID[4:7]:\n",
    "            remaining_grantID = grantID[5:]\n",
    "        else:\n",
    "            remaining_grantID = grantID[4:]\n",
    "    else:\n",
    "        activityCode = grantID[0:3]\n",
    "        if '-' in grantID[3:6]:\n",
    "            remaining_grantID = grantID[4:]\n",
    "        else:\n",
    "            remaining_grantID = grantID[3:]\n",
    "    return activityCode, remaining_grantID\n",
    "\n",
    "def parse_iccode_start(grantID):\n",
    "    icCode = grantID[0:2]\n",
    "    if '-' in grantID[2:5]: ## Eg. AI089992-11, AI-089992-11\n",
    "        remaining_grantID = grantID[3:]\n",
    "    else:\n",
    "        remaining_grantID = grantID[2:]\n",
    "    return icCode, remaining_grantID\n",
    "\n",
    "def parse_serial_start(grantID):\n",
    "    if len(grantID) > 6:\n",
    "        serialNum = grantID[0:6]\n",
    "        remaining_grantID = grantID[7:]\n",
    "    else:\n",
    "        serialNum = grantID\n",
    "        remaining_grantID = ''\n",
    "    return serialNum, remaining_grantID\n",
    "\n",
    "def parse_grantID(grantID, act_codes, ic_codes):\n",
    "    idstart = check_grantID_start(grantID, act_codes, ic_codes)\n",
    "    idend = check_grantID_end(grantID)\n",
    "    if idend == \"FY\":\n",
    "        supportYear = grantID[-2:]\n",
    "    else:\n",
    "        supportYear = \"not found\"\n",
    "    if idstart == \"application_type\":\n",
    "        applTypeCode, grantID_child0 = parse_apptype_start(grantID)\n",
    "        activityCode, grantID_child1 = parse_actcode_start(grantID_child0)\n",
    "        icCode, grantID_child2 = parse_iccode_start(grantID_child1)\n",
    "        serialNum, remaining_grantID = parse_serial_start(grantID_child2)\n",
    "    elif idstart == \"activity_code\":\n",
    "        applTypeCode = \"not found\"\n",
    "        activityCode, grantID_child1 = parse_actcode_start(grantID)\n",
    "        icCode, grantID_child2 = parse_iccode_start(grantID_child1)\n",
    "        serialNum, remaining_grantID = parse_serial_start(grantID_child2)\n",
    "    elif idstart == \"ic_code\":\n",
    "        applTypeCode = \"not found\"\n",
    "        activityCode = \"not found\"\n",
    "        icCode, grantID_child2 = parse_iccode_start(grantID)\n",
    "        serialNum, remaining_grantID = parse_serial_start(grantID_child2)      \n",
    "    else:\n",
    "        applTypeCode = \"not found\"\n",
    "        activityCode = \"not found\"\n",
    "        icCode = \"not found\"\n",
    "        serialNum = \"not found\"\n",
    "    grantObject = {\"grantID\":grantID,\n",
    "                   \"applTypeCode\":applTypeCode, \n",
    "                   \"activityCode\":activityCode, \n",
    "                   \"icCode\":icCode, \n",
    "                   \"serialNum\":serialNum, \n",
    "                   \"supportYear\":supportYear}\n",
    "    return grantObject\n",
    "\n",
    "grantlist = parse_array_text(test_row['fundingIDList'])\n",
    "print(grantlist[0])"
   ]
  },
  {
   "cell_type": "code",
   "execution_count": 10,
   "id": "2a13abb2",
   "metadata": {},
   "outputs": [
    {
     "name": "stdout",
     "output_type": "stream",
     "text": [
      "{'grantID': '1-R01-AI073685-01', 'applTypeCode': '1', 'activityCode': 'R01', 'icCode': 'AI', 'serialNum': '073685', 'supportYear': '01'}\n",
      "{'grantID': '1R01-AI073685-01', 'applTypeCode': '1', 'activityCode': 'R01', 'icCode': 'AI', 'serialNum': '073685', 'supportYear': '01'}\n",
      "{'grantID': '1-R01AI073685-01', 'applTypeCode': '1', 'activityCode': 'R01', 'icCode': 'AI', 'serialNum': '073685', 'supportYear': '01'}\n",
      "{'grantID': '1-R-01AI073685-01', 'applTypeCode': '1', 'activityCode': 'R01', 'icCode': 'AI', 'serialNum': '073685', 'supportYear': '01'}\n",
      "{'grantID': 'R01AI073685-01', 'applTypeCode': 'not found', 'activityCode': 'R01', 'icCode': 'AI', 'serialNum': '073685', 'supportYear': '01'}\n",
      "{'grantID': 'R01AI073685-01', 'applTypeCode': 'not found', 'activityCode': 'R01', 'icCode': 'AI', 'serialNum': '073685', 'supportYear': '01'}\n",
      "{'grantID': 'R01-AI073685-01', 'applTypeCode': 'not found', 'activityCode': 'R01', 'icCode': 'AI', 'serialNum': '073685', 'supportYear': '01'}\n",
      "{'grantID': 'AI073685-01', 'applTypeCode': 'not found', 'activityCode': 'not found', 'icCode': 'AI', 'serialNum': '073685', 'supportYear': '01'}\n",
      "{'grantID': '1-R-01-AI073685-01', 'applTypeCode': '1', 'activityCode': 'R01', 'icCode': 'AI', 'serialNum': '073685', 'supportYear': '01'}\n",
      "{'grantID': 'AI073685', 'applTypeCode': 'not found', 'activityCode': 'not found', 'icCode': 'AI', 'serialNum': '073685', 'supportYear': 'not found'}\n"
     ]
    }
   ],
   "source": [
    "grantIDList = [\"1-R01-AI073685-01\",\"1R01-AI073685-01\",\"1-R01AI073685-01\",\"1-R-01AI073685-01\",\"R01AI073685-01\",\"R01AI073685-01\",\"R01-AI073685-01\",\"AI073685-01\",\"1-R-01-AI073685-01\", \"AI073685\"]\n",
    "act_codes, ic_codes = load_codes(data_path)\n",
    "for eachgrant in grantIDList:\n",
    "    grantObject = parse_grantID(eachgrant, act_codes, ic_codes)\n",
    "    print(grantObject)\n",
    "    "
   ]
  },
  {
   "cell_type": "markdown",
   "id": "e323d563",
   "metadata": {},
   "source": [
    "### Searching for records related to grant IDs:\n",
    "\n",
    "To do:\n",
    "- Pull the datasets associated with the differently formatted grantIDs\n",
    "- Compare the results to identify the best approach for pulling records based on grantIDs\n",
    "  - It looks like the combined icCode+project number may yield the most results"
   ]
  },
  {
   "cell_type": "code",
   "execution_count": 11,
   "id": "a5ff8d65",
   "metadata": {},
   "outputs": [],
   "source": [
    "def search_for_records(grantlist):\n",
    "    resultlist = []\n",
    "    faillist = []\n",
    "    for eachgrant in grantlist:\n",
    "        #print(eachgrant)\n",
    "        r = requests.get(f\"https://api-staging.data.niaid.nih.gov/v1/query?&q=funding.identifier:*{eachgrant}*&fields=_id,funding.identifier&size=500\")\n",
    "        s = requests.get(f\"https://api-staging.data.niaid.nih.gov/v1/query?&q=funding.identifier:{eachgrant}&fields=_id,funding.identifier&size=500\")\n",
    "        temp = json.loads(r.text)\n",
    "        temp2 = json.loads(s.text)\n",
    "        try:\n",
    "            temphits = len(temp['hits'])\n",
    "        except:\n",
    "            temphits = 0\n",
    "        try:\n",
    "            temphits2 = len(temp['hits'])\n",
    "        except:\n",
    "            temphits2 = 0\n",
    "        if temphits > 0:\n",
    "            if temphits2 > 0:\n",
    "                alltemp = temp['hits'] + temp2['hits']\n",
    "            else:\n",
    "                alltemp = temp['hits']\n",
    "        elif temphits2 > 0:\n",
    "                alltemp = temp2['hits']\n",
    "        else:\n",
    "            faillist.append(eachgrant)\n",
    "            alltemp = []\n",
    "        if len(alltemp)>0:\n",
    "            for eachhit in alltemp:\n",
    "                tmpid = eachhit['_id']\n",
    "                if isinstance(eachhit['funding'],list):\n",
    "                    for eachfunding in eachhit['funding']:\n",
    "                        if eachgrant in eachfunding['identifier']:\n",
    "                            resultlist.append({\"query\":eachgrant,\"_id\":tmpid,\"fundID\":eachfunding['identifier']})\n",
    "                elif isinstance(eachhit['funding'],dict):\n",
    "                    resultlist.append({\"query\":eachgrant,\"_id\":tmpid,\"fundID\":eachhit['funding']['identifier']})\n",
    "    resultdf = pd.DataFrame(resultlist)\n",
    "    clean_result = resultdf.drop_duplicates(keep=\"first\")\n",
    "    print(faillist)\n",
    "    return clean_result"
   ]
  },
  {
   "cell_type": "code",
   "execution_count": 12,
   "id": "875d8aa5",
   "metadata": {},
   "outputs": [
    {
     "name": "stdout",
     "output_type": "stream",
     "text": [
      "['1-R01-AI073685-01', '1R01-AI073685-01', '1-R01AI073685-01', '1-R-01AI073685-01', 'R01 AI073685-01', 'R01 AI07368501', 'R01-AI073685-01', '1-R-01-AI073685-01']\n"
     ]
    }
   ],
   "source": [
    "grantIDList = [\"1-R01-AI073685-01\",\"1R01-AI073685-01\",\"1-R01AI073685-01\",\"1-R-01AI073685-01\",\"R01AI073685\",\"R01AI073685-01\",\"R01 AI073685-01\", \"R01 AI07368501\",\"R01-AI073685-01\",\"AI073685-01\",\"1-R-01-AI073685-01\", \"AI073685\"]\n",
    "clean_result = search_for_records(grantIDList)"
   ]
  },
  {
   "cell_type": "code",
   "execution_count": 13,
   "id": "3ce43757",
   "metadata": {},
   "outputs": [
    {
     "name": "stdout",
     "output_type": "stream",
     "text": [
      "             query            _id           fundID\n",
      "0      R01AI073685  ds_e639f19429  1R01AI073685-01\n",
      "2      R01AI073685  ds_61fc1af3a0  1R01AI073685-01\n",
      "4      R01AI073685  ds_69b30c3f3f  1R01AI073685-01\n",
      "5      R01AI073685  ds_5dc6e26d66  1R01AI073685-01\n",
      "7      R01AI073685  ds_e3b3b46a00  1R01AI073685-01\n",
      "8      R01AI073685  ds_7fb8ffda8b  1R01AI073685-01\n",
      "10  R01AI073685-01  ds_e639f19429  1R01AI073685-01\n",
      "12  R01AI073685-01  ds_61fc1af3a0  1R01AI073685-01\n",
      "14  R01AI073685-01  ds_69b30c3f3f  1R01AI073685-01\n",
      "15  R01AI073685-01  ds_5dc6e26d66  1R01AI073685-01\n",
      "17  R01AI073685-01  ds_e3b3b46a00  1R01AI073685-01\n",
      "18  R01AI073685-01  ds_7fb8ffda8b  1R01AI073685-01\n",
      "20     AI073685-01  ds_e639f19429  1R01AI073685-01\n",
      "22     AI073685-01  ds_61fc1af3a0  1R01AI073685-01\n",
      "24     AI073685-01  ds_69b30c3f3f  1R01AI073685-01\n",
      "25     AI073685-01  ds_5dc6e26d66  1R01AI073685-01\n",
      "27     AI073685-01  ds_e3b3b46a00  1R01AI073685-01\n",
      "28     AI073685-01  ds_7fb8ffda8b  1R01AI073685-01\n",
      "30        AI073685  ds_e639f19429  1R01AI073685-01\n",
      "32        AI073685  ds_61fc1af3a0  1R01AI073685-01\n",
      "34        AI073685  ds_69b30c3f3f  1R01AI073685-01\n",
      "35        AI073685  ds_5dc6e26d66  1R01AI073685-01\n",
      "37        AI073685  ds_e3b3b46a00  1R01AI073685-01\n",
      "38        AI073685  ds_7fb8ffda8b  1R01AI073685-01\n"
     ]
    }
   ],
   "source": [
    "print(clean_result)"
   ]
  },
  {
   "cell_type": "code",
   "execution_count": 14,
   "id": "ad220292",
   "metadata": {},
   "outputs": [],
   "source": [
    "## parse the funder ids from the spreadsheet and format into icCode+project number\n",
    "def parse_program_funding(fundingInfo):\n",
    "    grantlist = []\n",
    "    temp = parse_array_text(fundingInfo)\n",
    "    temp2 = [x.strip() for x in temp]\n",
    "    temp3 = [x.replace(\"*\",\"\") for x in temp2]\n",
    "    for eachgrant in temp3:\n",
    "        try:\n",
    "            grantObject = parse_grantID(eachgrant, act_codes, ic_codes)\n",
    "            if grantObject['icCode']!='not found' and grantObject['serialNum'] != 'not found':\n",
    "                grantlist.append(grantObject['icCode']+grantObject['serialNum'])\n",
    "            else:\n",
    "                grantlist.append(eachgrant)\n",
    "        except:\n",
    "            grantlist.append(eachgrant)\n",
    "    return grantlist"
   ]
  },
  {
   "cell_type": "code",
   "execution_count": 15,
   "id": "46b1c43f",
   "metadata": {},
   "outputs": [],
   "source": [
    "def parse_prior_program(priorfunding):\n",
    "    if priorfunding != \"not found\":\n",
    "        tmp = priorfunding.split(\"|\")\n",
    "        priorgrants = [x.strip() for x in tmp]\n",
    "    else:\n",
    "        priorgrants = []\n",
    "    return priorgrants"
   ]
  },
  {
   "cell_type": "code",
   "execution_count": 44,
   "id": "c4359066",
   "metadata": {},
   "outputs": [],
   "source": [
    "def generate_inclusion_list(correction_path,approvedProd,row):\n",
    "    filename = f\"{row['fileName']}_records.txt\"\n",
    "    fundingInfo = row['fundingIDList']\n",
    "    priorfunding = row['PriorProjectGrantIDs']\n",
    "    basegrantlist = parse_program_funding(fundingInfo)\n",
    "    if len(basegrantlist) == 0:\n",
    "        print(filename, \" basegrantlist is 0\")\n",
    "    priorgrantlist = parse_prior_program(priorfunding)\n",
    "    if len(priorgrantlist)>0:\n",
    "        #print(priorgrantlist)\n",
    "        grantlist = list(set(basegrantlist).union(set(priorgrantlist)))\n",
    "    else:\n",
    "        grantlist = list(set(basegrantlist))\n",
    "    clean_result = search_for_records(grantlist)\n",
    "    print(clean_result)\n",
    "    if row[\"fileName\"] in approvedProd:\n",
    "        outputpath = os.path.join(correction_path,\"collections_corrections_production\")\n",
    "    else:\n",
    "        outputpath = os.path.join(correction_path,\"collections_corrections_staging\")\n",
    "    with open(os.path.join(outputpath,filename),'w') as outwrite:\n",
    "        if len(clean_result)>0:\n",
    "            for eachrecord in clean_result['_id'].unique().tolist():\n",
    "                outwrite.write(f'https://data.niaid.nih.gov/resources?id={eachrecord}\\n')\n",
    "        else:\n",
    "            outwrite.write(\"\")"
   ]
  },
  {
   "cell_type": "code",
   "execution_count": 46,
   "id": "5b0fe018",
   "metadata": {},
   "outputs": [
    {
     "data": {
      "text/plain": [
       "0     None\n",
       "1     None\n",
       "2     None\n",
       "3     None\n",
       "4     None\n",
       "      ... \n",
       "80    None\n",
       "81    None\n",
       "84    None\n",
       "85    None\n",
       "86    None\n",
       "Length: 72, dtype: object"
      ]
     },
     "execution_count": 46,
     "metadata": {},
     "output_type": "execute_result"
    }
   ],
   "source": [
    "#print(len(test_meta))\n",
    "#print(test_meta.iloc[2]['fundingIDList'])\n",
    "#print(test_meta.head(n=3))\n",
    "#generate_inclusion_list(test_meta.iloc[2])\n",
    "#print(test_meta.head(n=2))\n",
    "#test_meta.apply(lambda row: generate_meta_file(correction_path, approvedProd, row), axis=1)\n",
    "#test_meta.apply(lambda row: generate_inclusion_list(correction_path,approvedProd,row), axis=1)\n",
    "clean_meta.apply(lambda row: generate_meta_file(correction_path, approvedProd, row), axis=1)\n",
    "clean_meta.apply(lambda row: generate_inclusion_list(correction_path,approvedProd,row), axis=1)"
   ]
  },
  {
   "cell_type": "code",
   "execution_count": null,
   "id": "cdb6c687",
   "metadata": {},
   "outputs": [],
   "source": [
    "eachgrant=grantIDList[-1]\n",
    "r = requests.get(f\"https://api-staging.data.niaid.nih.gov/v1/query?&q=funding.identifier:*{eachgrant}*&fields=_id,funding.identifier&size=500\")\n",
    "temp = json.loads(r.text)\n",
    "print(temp)"
   ]
  },
  {
   "cell_type": "code",
   "execution_count": null,
   "id": "4b78c737",
   "metadata": {},
   "outputs": [],
   "source": []
  },
  {
   "cell_type": "code",
   "execution_count": null,
   "id": "931def2e",
   "metadata": {},
   "outputs": [],
   "source": []
  },
  {
   "cell_type": "code",
   "execution_count": null,
   "id": "47480d85",
   "metadata": {},
   "outputs": [],
   "source": []
  },
  {
   "cell_type": "code",
   "execution_count": 43,
   "id": "d18df573",
   "metadata": {},
   "outputs": [
    {
     "name": "stdout",
     "output_type": "stream",
     "text": [
      "AI070235| AI077439| AI104209| AI095219| AI070535| AI125357| AI095227| AI175089| AI162310| AI175113| AI152034| AI104317| AI136053| AI062885| AI136443| AI125378| AI070489| AI095230| AI070412| AI095261| AI044236| AI077437| AI077435| AI071130| AI070448| AI070453| AI031541| AI032834| AI036888\n",
      "AI077439|AI104209|AI104317|AI095227|AI070235|AI125378|AI095219|AI070535|AI125357|AI104209|AI104317|AI136053|AI077439|AI136443\n",
      "['AI070235', 'AI077439', 'AI104209', 'AI095219', 'AI070535', 'AI125357', 'AI095227', 'AI175089', 'AI162310', 'AI175113', 'AI152034', 'AI104317', 'AI136053', 'AI062885', 'AI136443', 'AI125378', 'AI070489', 'AI095230', 'AI070412', 'AI095261', 'AI044236', 'AI077437', 'AI077435', 'AI071130', 'AI070448', 'AI070453', 'AI031541', 'AI032834', 'AI036888']\n",
      "['AI077439', 'AI104209', 'AI104317', 'AI095227', 'AI070235', 'AI125378', 'AI095219', 'AI070535', 'AI125357', 'AI104209', 'AI104317', 'AI136053', 'AI077439', 'AI136443']\n",
      "['AI095219', 'AI070412', 'AI136053', 'AI044236', 'AI032834', 'AI095261', 'AI175113', 'AI070453', 'AI077439', 'AI125357', 'AI152034', 'AI136443', 'AI062885', 'AI077437', 'AI070235', 'AI070448', 'AI125378', 'AI071130', 'AI036888', 'AI095227', 'AI077435', 'AI162310', 'AI104209', 'AI175089', 'AI095230', 'AI104317', 'AI031541', 'AI070489', 'AI070535']\n"
     ]
    }
   ],
   "source": [
    "test_meta = clean_meta.iloc[7]\n",
    "print(test_meta['fundingIDList'])\n",
    "print(test_meta['PriorProjectGrantIDs'])\n",
    "\n",
    "basegrantlist = parse_program_funding(test_meta['fundingIDList'])\n",
    "priorprogramlist = parse_prior_program(test_meta['PriorProjectGrantIDs'])\n",
    "print(basegrantlist)\n",
    "print(priorprogramlist)\n",
    "if len(priorprogramlist)>0:\n",
    "    grantlist = list(set(basegrantlist).union(set(priorprogramlist)))\n",
    "    print(grantlist)"
   ]
  }
 ],
 "metadata": {
  "kernelspec": {
   "display_name": "Python 3 (ipykernel)",
   "language": "python",
   "name": "python3"
  },
  "language_info": {
   "codemirror_mode": {
    "name": "ipython",
    "version": 3
   },
   "file_extension": ".py",
   "mimetype": "text/x-python",
   "name": "python",
   "nbconvert_exporter": "python",
   "pygments_lexer": "ipython3",
   "version": "3.10.10"
  }
 },
 "nbformat": 4,
 "nbformat_minor": 5
}
