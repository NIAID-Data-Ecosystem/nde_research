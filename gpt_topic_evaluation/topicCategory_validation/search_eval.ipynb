{
 "cells": [
  {
   "cell_type": "markdown",
   "id": "4160a05a",
   "metadata": {},
   "source": [
    "## Evaluate effect of indexing on search rankings"
   ]
  },
  {
   "cell_type": "code",
   "execution_count": 1,
   "id": "28dc4522",
   "metadata": {},
   "outputs": [
    {
     "name": "stdout",
     "output_type": "stream",
     "text": [
      "                                          url in NDE last crawled  \\\n",
      "0  https://data.niaid.nih.gov/resources?id=ZENODO...    3/19/2024   \n",
      "1  https://data.niaid.nih.gov/resources?id=OMICSD...    3/13/2024   \n",
      "\n",
      "  indexed in google?  \n",
      "0                 no  \n",
      "1                 no  \n"
     ]
    }
   ],
   "source": [
    "import os\n",
    "import pandas as pd\n",
    "\n",
    "script_path = os.getcwd()\n",
    "data_path = os.path.join(script_path,'data')\n",
    "datafile = os.path.join('data','search rankings.tsv')\n",
    "data = pd.read_csv(datafile,delimiter = '\\t',header=0)\n",
    "print(data.head(n=2))"
   ]
  },
  {
   "cell_type": "code",
   "execution_count": null,
   "id": "6cda1d19",
   "metadata": {},
   "outputs": [],
   "source": [
    "data['_id'] = data['url in NDE'].astype(str).str.replace(\"https://data.niaid.nih.gov/resources?id=\",\"\")\n",
    "print(data.head(n=2))\n"
   ]
  },
  {
   "cell_type": "code",
   "execution_count": null,
   "id": "f89e4749",
   "metadata": {},
   "outputs": [],
   "source": [
    "## get a random sample of the ids\n",
    "sample_records = data.sample(250)\n",
    "idlist = sample_records['_id'].unique().tolist()"
   ]
  },
  {
   "cell_type": "code",
   "execution_count": null,
   "id": "203260ed",
   "metadata": {},
   "outputs": [],
   "source": [
    "sample_records.to_csv(os.path.join('result','non-indexed_urls.tsv'),sep='\\t',header=True)"
   ]
  },
  {
   "cell_type": "code",
   "execution_count": null,
   "id": "268eb0c8",
   "metadata": {},
   "outputs": [],
   "source": [
    "resultlist = []\n",
    "fail = []\n",
    "for eachid in idlist:\n",
    "    try:\n",
    "        r = requests.get(f\"https://api.data.niaid.nih.gov/v1/query?q={eachid}&fields=_id,name\")\n",
    "        result = json.loads(r.text)\n",
    "        hit = result['hits'][0]\n",
    "        dataset_name = hit['name'].replace(\" \",\"+\").replace(\"<i>\",\"\").replace(\"</i>\",\"\")\n",
    "        googleurl = f'https://www.google.com/search?q=\"{dataset_name}\"'\n",
    "        resultlist.append({'_id': hit['_id'],'name':hit['name'],'search_url':googleurl})\n",
    "    except:\n",
    "        fail.append(eachid)\n",
    "\n",
    "resultdf = pd.DataFrame(resultlist)\n",
    "print(resultdf.head(n=2))\n",
    "print(len(resultdf))"
   ]
  },
  {
   "cell_type": "code",
   "execution_count": null,
   "id": "86b4adb6",
   "metadata": {},
   "outputs": [],
   "source": [
    "resultdf.to_csv(os.path.join('result','unindexed_datasets_to_evaluate.tsv'),sep='\\t',header='True')"
   ]
  },
  {
   "cell_type": "code",
   "execution_count": null,
   "id": "b352460b",
   "metadata": {},
   "outputs": [],
   "source": [
    "more_variation = data.loc[~(data['_id'].str.contains('IMMPORT'))&~(data['_id'].str.contains('veupathdb'))]\n",
    "print(len(more_variation))"
   ]
  },
  {
   "cell_type": "code",
   "execution_count": null,
   "id": "9fad00ec",
   "metadata": {},
   "outputs": [],
   "source": [
    "newidlist = more_variation['_id'].unique().tolist()"
   ]
  },
  {
   "cell_type": "code",
   "execution_count": null,
   "id": "c434ebe7",
   "metadata": {},
   "outputs": [],
   "source": [
    "new_resultlist = []\n",
    "new_fail = []\n",
    "for eachid in newidlist:\n",
    "    try:\n",
    "        r = requests.get(f\"https://api.data.niaid.nih.gov/v1/query?q={eachid}&fields=_id,name\")\n",
    "        result = json.loads(r.text)\n",
    "        hit = result['hits'][0]\n",
    "        dataset_name = hit['name'].replace(\" \",\"+\").replace(\"<i>\",\"\").replace(\"</i>\",\"\")\n",
    "        googleurl = f'https://www.google.com/search?q=\"{dataset_name}\"'\n",
    "        new_resultlist.append({'_id': hit['_id'],'name':hit['name'],'search_url':googleurl})\n",
    "    except:\n",
    "        new_fail.append(eachid)\n",
    "\n",
    "new_resultdf = pd.DataFrame(new_resultlist)\n",
    "print(new_resultdf.head(n=2))\n",
    "print(len(new_resultdf))\n",
    "new_resultdf.to_csv(os.path.join('result','more_unindexed_datasets_to_evaluate.tsv'),sep='\\t',header='True')"
   ]
  },
  {
   "cell_type": "code",
   "execution_count": null,
   "id": "9478b8e3",
   "metadata": {},
   "outputs": [],
   "source": []
  },
  {
   "cell_type": "code",
   "execution_count": null,
   "id": "ef3e7277",
   "metadata": {},
   "outputs": [],
   "source": []
  }
 ],
 "metadata": {
  "kernelspec": {
   "display_name": "Python 3 (ipykernel)",
   "language": "python",
   "name": "python3"
  },
  "language_info": {
   "codemirror_mode": {
    "name": "ipython",
    "version": 3
   },
   "file_extension": ".py",
   "mimetype": "text/x-python",
   "name": "python",
   "nbconvert_exporter": "python",
   "pygments_lexer": "ipython3",
   "version": "3.10.10"
  }
 },
 "nbformat": 4,
 "nbformat_minor": 5
}
